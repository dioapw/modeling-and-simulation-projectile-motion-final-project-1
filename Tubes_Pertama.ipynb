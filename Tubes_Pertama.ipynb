{
 "cells": [
  {
   "cell_type": "markdown",
   "id": "b4a65307-1652-4ac2-ad0a-9fc7cdf74bd9",
   "metadata": {},
   "source": [
    "# **Tanpa Adanya Hambatan Udara**"
   ]
  },
  {
   "cell_type": "markdown",
   "id": "b4e9a7ef-6650-4856-95c0-670e964b8446",
   "metadata": {},
   "source": [
    "## 1. Inisiasi Variabel"
   ]
  },
  {
   "cell_type": "code",
   "execution_count": 1,
   "id": "8cd441f3-fe72-49c7-80cf-47433bd443ae",
   "metadata": {},
   "outputs": [],
   "source": [
    "import numpy as np\n",
    "import matplotlib.pyplot as plt\n",
    "import seaborn as sns\n",
    "from math import sqrt\n",
    "\n",
    "# initialization\n",
    "x = 0                                 # initial x position\n",
    "y = 0                                 # initial y position\n",
    "v0 = 50                               # initial velocity\n",
    "angle = 35                            # initial angle\n",
    "angle_rad = (angle/360)*(2 * np.pi)   # convert degree to radian\n",
    "g = -9.806                            # gravity acceleration\n",
    "t = 0                                 # time\n",
    "dt = 0.01                             # time step"
   ]
  },
  {
   "cell_type": "markdown",
   "id": "f48043ac-2af6-4e2b-b83a-412890e769e9",
   "metadata": {},
   "source": [
    "## 2. Inisiasi Array"
   ]
  },
  {
   "cell_type": "code",
   "execution_count": 2,
   "id": "e21f7839-63ea-4375-89ba-085da44c4412",
   "metadata": {},
   "outputs": [],
   "source": [
    "# initialization array\n",
    "x_arr = [x]\n",
    "y_arr = [y]\n",
    "t_arr = [t]\n",
    "\n",
    "# velocity for x and y axis\n",
    "vx = v0 * np.cos(angle_rad)\n",
    "vy = v0 * np.sin(angle_rad)"
   ]
  },
  {
   "cell_type": "markdown",
   "id": "c9cf0314-4a30-43e2-8b24-318290cb8835",
   "metadata": {},
   "source": [
    "## 3. Update"
   ]
  },
  {
   "cell_type": "code",
   "execution_count": 3,
   "id": "587eae36-be8e-4f19-84f2-a0a372935fae",
   "metadata": {},
   "outputs": [],
   "source": [
    "# update\n",
    "while y >= 0:\n",
    "    vy += g*dt\n",
    "    y += vy*dt\n",
    "    x += vx*dt\n",
    "    t += dt\n",
    "    if y < 0:\n",
    "        break\n",
    "    # store\n",
    "    x_arr.append(x)\n",
    "    y_arr.append(y)\n",
    "    t_arr.append(t)"
   ]
  },
  {
   "cell_type": "markdown",
   "id": "97fdf504-c236-4364-8d0b-10e9a666f208",
   "metadata": {},
   "source": [
    "## 4. Solusi Numerik"
   ]
  },
  {
   "cell_type": "code",
   "execution_count": 4,
   "id": "f1d27ceb-c75b-4d5b-a0b0-15e70b7fede2",
   "metadata": {},
   "outputs": [],
   "source": [
    "# numerical solution\n",
    "# total time\n",
    "t_tot_num = t_arr[-1]\n",
    "# range\n",
    "range_num = x_arr[-1]\n",
    "# max height\n",
    "h_max_num = np.max(y_arr)"
   ]
  },
  {
   "cell_type": "markdown",
   "id": "34f17aec-4562-4924-9dd2-3aa85982387f",
   "metadata": {},
   "source": [
    "## 5. Solusi Analitik"
   ]
  },
  {
   "cell_type": "code",
   "execution_count": 5,
   "id": "8e7b46c3-8528-4cf4-9eab-74f480c13fc8",
   "metadata": {},
   "outputs": [],
   "source": [
    "# exact solution\n",
    "x_ex_arr = [0]\n",
    "y_ex_arr = [0]\n",
    "for t in t_arr:\n",
    "    x_ex = v0 * np.cos(angle_rad) * t\n",
    "    y_ex = (0.5 * g * t**2) + (v0 * np.sin(angle_rad) * t)\n",
    "    x_ex_arr.append(x_ex)\n",
    "    y_ex_arr.append(y_ex)\n",
    "\n",
    "# total time\n",
    "t_tot_ex = (2 * v0 * np.sin(angle_rad))/-g\n",
    "# range\n",
    "range_ex = v0 * np.cos(angle_rad) * t_tot_ex\n",
    "# max height\n",
    "h_max_ex = (v0**2 * np.sin(angle_rad)**2) / (-2 * g)"
   ]
  },
  {
   "cell_type": "markdown",
   "id": "8a8e482e-b658-4dee-88ec-f66bb7b362e1",
   "metadata": {},
   "source": [
    "## 6. Visualisasi Validasi Posisi"
   ]
  },
  {
   "cell_type": "code",
   "execution_count": 7,
   "id": "758afdec-884a-4bde-a89e-f85c3efe624c",
   "metadata": {},
   "outputs": [
    {
     "data": {
      "image/png": "[encoded data removed]",
      "text/plain": [
       "<Figure size 576x360 with 1 Axes>"
      ]
     },
     "metadata": {},
     "output_type": "display_data"
    }
   ],
   "source": [
    "sns.set_theme(style=\"whitegrid\")\n",
    "plt.figure(figsize=(8,5))\n",
    "\n",
    "sns.lineplot(x=x_arr, y=y_arr, color='g', label='numerical')\n",
    "sns.lineplot(x=x_ex_arr, y=y_ex_arr, color='b', label='analytical')\n",
    "plt.axhline(c='black')\n",
    "plt.axvline(c='black')\n",
    "\n",
    "plt.title('Perbandingan Solusi Analitik dengan Numerik')\n",
    "plt.xlabel(\"Jarak (m)\")\n",
    "plt.ylabel(\"Tinggi (m)\")\n",
    "plt.legend()\n",
    "\n",
    "plt.show()"
   ]
  },
  {
   "cell_type": "markdown",
   "id": "698a596c-7eaf-49f5-ac48-971dd246e047",
   "metadata": {},
   "source": [
    "## 7. Validasi Waktu"
   ]
  },
  {
   "cell_type": "code",
   "execution_count": null,
   "id": "b350373e-6722-413f-9210-c8c5fdad1eca",
   "metadata": {},
   "outputs": [
    {
     "name": "stdout",
     "output_type": "stream",
     "text": [
      "Numerik vs Analitik\n",
      "total waktu (s): 5.83 vs 5.85\n",
      "Jarak (m) 238.78 vs 239.57\n",
      "Tinggi (m) 41.79 vs 41.94\n"
     ]
    }
   ],
   "source": [
    "# compare\n",
    "print('Numerik vs Analitik')\n",
    "print('total waktu (s): {:.2f} vs {:.2f}'.format(t_tot_num, t_tot_ex))\n",
    "print('Jarak (m) {:.2f} vs {:.2f}'.format(range_num, range_ex))\n",
    "print('Tinggi (m) {:.2f} vs {:.2f}'.format(h_max_num, h_max_ex))"
   ]
  },
  {
   "cell_type": "markdown",
   "id": "09ddab6b-696d-4315-b8fd-20fbd591a135",
   "metadata": {},
   "source": [
    "## 8. Pembuatan Simulasi"
   ]
  },
  {
   "cell_type": "code",
   "execution_count": null,
   "id": "c849ef56-f674-4e5f-b181-fa90cf14d521",
   "metadata": {
    "tags": []
   },
   "outputs": [],
   "source": [
    "# plot for animation\n",
    "plt.rcParams.update({'figure.max_open_warning': 0})\n",
    "for i in range(len(y_arr)):\n",
    "    plt.figure()\n",
    "    plt.scatter(x_arr[i], y_arr[i], marker='o', c='b')\n",
    "    plt.text(32, 14, '{:.2f} s'.format(t_arr[i]))\n",
    "    plt.ylim(-1,16)\n",
    "    plt.xlim(-1,36)\n",
    "    plt.axhline(c='black')\n",
    "    plt.axvline(c='black')\n",
    "    plt.savefig('./images/fig_{:04d}.png'.format(i+1), \n",
    "                format='png', dpi=1000, bbox_inches=\"tight\")"
   ]
  },
  {
   "cell_type": "markdown",
   "id": "4e56e1a5-9d7f-45c7-bd9d-51fef10f9b87",
   "metadata": {},
   "source": [
    "# **Dengan Hambatan Udara**"
   ]
  },
  {
   "cell_type": "markdown",
   "id": "4cfab546-d8f8-40bf-b94e-e540993dc590",
   "metadata": {},
   "source": [
    "## 1. Inisiasi Variabel Menggunakan Hambatan Udara"
   ]
  },
  {
   "cell_type": "code",
   "execution_count": 10,
   "id": "101cb299-bf1f-46d4-bfac-d1e90dfb8f82",
   "metadata": {},
   "outputs": [],
   "source": [
    "# initialization\n",
    "m = 0.15                              # Massa Benda\n",
    "d = 0.0013                            # konstanta\n",
    "x = 0                                 # initial x position\n",
    "y = 0                                 # initial y position\n",
    "v0 = 50                               # initial velocity\n",
    "angle = 35                            # initial angle\n",
    "angle_rad = (angle/360)*(2 * np.pi)   # convert degree to radian\n",
    "g = -9.806                            # gravity acceleration\n",
    "t = 0                                 # time\n",
    "dt = 0.01                             # time step"
   ]
  },
  {
   "cell_type": "markdown",
   "id": "b9ba70e6-116c-44e8-abc6-9fa9c803b8a1",
   "metadata": {},
   "source": [
    "## 2. Inisiasi Array Menggunakan Hambatan Udara"
   ]
  },
  {
   "cell_type": "code",
   "execution_count": 11,
   "id": "b3bd45c7-ea05-4411-94fb-7c41ff1d89e1",
   "metadata": {},
   "outputs": [],
   "source": [
    "# initialization array\n",
    "x_arr = [x]\n",
    "y_arr = [y]\n",
    "t_arr = [t]\n",
    "\n",
    "# velocity for x and y axis\n",
    "vx = v0 * np.cos(angle_rad)\n",
    "vy = v0 * np.sin(angle_rad)"
   ]
  },
  {
   "cell_type": "markdown",
   "id": "ffa77e26-2717-412a-8641-5145f3b531d6",
   "metadata": {},
   "source": [
    "## 3. Update Menggunakan Hambatan Udara"
   ]
  },
  {
   "cell_type": "code",
   "execution_count": 12,
   "id": "3a6da43a-a9db-4847-8439-b00d64f4ed9a",
   "metadata": {},
   "outputs": [],
   "source": [
    "# update\n",
    "while y >= 0:\n",
    "    v = sqrt((vx**2) + (vy**2))\n",
    "    ax = - (d/m) * v * vx\n",
    "    ay = g - (d/m) * v *vy\n",
    "    vy += ay*dt\n",
    "    vx += ax*dt\n",
    "    y += vy*dt\n",
    "    x += vx*dt\n",
    "    t += dt\n",
    "    if y < 0:\n",
    "        break\n",
    "    # store\n",
    "    x_arr.append(x)\n",
    "    y_arr.append(y)\n",
    "    t_arr.append(t)"
   ]
  },
  {
   "cell_type": "markdown",
   "id": "519e0dc7-5c61-4052-9044-ab444ba2a9ea",
   "metadata": {},
   "source": [
    "## 4. Solusi Numerik Menggunakan Hambatan Udara"
   ]
  },
  {
   "cell_type": "code",
   "execution_count": 13,
   "id": "cac080ee-8b9a-4770-a2f8-3fb4f2ef6527",
   "metadata": {},
   "outputs": [],
   "source": [
    "# numerical solution\n",
    "# total time\n",
    "t_tot_num = t_arr[-1]\n",
    "# range\n",
    "range_num = x_arr[-1]\n",
    "# max height\n",
    "h_max_num = np.max(y_arr)"
   ]
  },
  {
   "cell_type": "markdown",
   "id": "22da43ee-0b6b-4368-90a6-092de448408d",
   "metadata": {},
   "source": [
    "## 5. Visualisasi Validasi Posisi Menggunakan Hambatan Udara"
   ]
  },
  {
   "cell_type": "code",
   "execution_count": 14,
   "id": "86b6abd3-7f83-4a7c-a129-b73521e263cf",
   "metadata": {},
   "outputs": [
    {
     "data": {
      "image/png": "[encoded data removed]",
      "text/plain": [
       "<Figure size 576x360 with 1 Axes>"
      ]
     },
     "metadata": {},
     "output_type": "display_data"
    }
   ],
   "source": [
    "sns.set_theme(style=\"whitegrid\")\n",
    "plt.figure(figsize=(8,5))\n",
    "\n",
    "sns.lineplot(x=x_arr, y=y_arr, color='b', label='numerical')\n",
    "plt.axhline(c='black')\n",
    "plt.axvline(c='black')\n",
    "\n",
    "plt.title('Perbandingan Solusi Menggunakan Hambatan Udara dengan Numerik')\n",
    "plt.xlabel(\"Jarak (m)\")\n",
    "plt.ylabel(\"Tinggi (m)\")\n",
    "plt.legend()\n",
    "\n",
    "plt.show()"
   ]
  },
  {
   "cell_type": "markdown",
   "id": "65124a1e-ca55-494b-8ffb-88fe01c5c39f",
   "metadata": {},
   "source": [
    "## 6. Validasi Waktu Menggunakan Hambatan Udara"
   ]
  },
  {
   "cell_type": "code",
   "execution_count": 15,
   "id": "56d18d9d-a023-4810-bc67-34913895a13c",
   "metadata": {},
   "outputs": [
    {
     "name": "stdout",
     "output_type": "stream",
     "text": [
      "Numerik Menggunakan Hambatan Udara\n",
      "total waktu (s): 4.51\n",
      "Jarak (m) 106.00\n",
      "Tinggi (m) 25.45\n"
     ]
    }
   ],
   "source": [
    "print('Numerik Menggunakan Hambatan Udara')\n",
    "print('total waktu (s): {:.2f}'.format(t_tot_num))\n",
    "print('Jarak (m) {:.2f}'.format(range_num))\n",
    "print('Tinggi (m) {:.2f}'.format(h_max_num))"
   ]
  },
  {
   "cell_type": "markdown",
   "id": "d5570b1a-774e-4207-a0b8-41b7521a628c",
   "metadata": {},
   "source": [
    "## 7. Pembuatan Simulasi Menggunakan Hambatan Udara"
   ]
  },
  {
   "cell_type": "code",
   "execution_count": null,
   "id": "6f83edb9-f2c2-42c5-8add-a2c7892007a1",
   "metadata": {
    "tags": []
   },
   "outputs": [],
   "source": [
    "# plot for animation\n",
    "plt.rcParams.update({'figure.max_open_warning': 0})\n",
    "for i in range(len(y_arr)):\n",
    "    plt.figure()\n",
    "    plt.scatter(x_arr[i], y_arr[i], marker='o', c='r')\n",
    "    plt.text(32, 14, '{:.2f} s'.format(t_arr[i]))\n",
    "    plt.ylim(-1,16)\n",
    "    plt.xlim(-1,36)\n",
    "    plt.axhline(c='black')\n",
    "    plt.axvline(c='black')\n",
    "    plt.savefig('./images2/fig_{:04d}.png'.format(i+1), \n",
    "                format='png', dpi=1000, bbox_inches=\"tight\")"
   ]
  }
 ],
 "metadata": {
  "kernelspec": {
   "display_name": "Python 3 (ipykernel)",
   "language": "python",
   "name": "python3"
  },
  "language_info": {
   "codemirror_mode": {
    "name": "ipython",
    "version": 3
   },
   "file_extension": ".py",
   "mimetype": "text/x-python",
   "name": "python",
   "nbconvert_exporter": "python",
   "pygments_lexer": "ipython3",
   "version": "3.9.7"
  }
 },
 "nbformat": 4,
 "nbformat_minor": 5
}
